{
  "nbformat": 4,
  "nbformat_minor": 0,
  "metadata": {
    "colab": {
      "provenance": [],
      "include_colab_link": true
    },
    "kernelspec": {
      "name": "python3",
      "display_name": "Python 3"
    },
    "language_info": {
      "name": "python"
    }
  },
  "cells": [
    {
      "cell_type": "markdown",
      "metadata": {
        "id": "view-in-github",
        "colab_type": "text"
      },
      "source": [
        "<a href=\"https://colab.research.google.com/github/yazflores/MIAAD/blob/main/Practica04_YazminFlores_Python.ipynb\" target=\"_parent\"><img src=\"https://colab.research.google.com/assets/colab-badge.svg\" alt=\"Open In Colab\"/></a>"
      ]
    },
    {
      "cell_type": "code",
      "source": [
        "from pickle import TRUE\n",
        "print(f\"Cálculo de Impuestos\")\n",
        "\n",
        "while TRUE:\n",
        "    try:\n",
        "        ingreso_str = input(f\"Ingresa su ingreso anual: $\")\n",
        "        ingreso_anual = float(ingreso_str)\n",
        "\n",
        "        tasa_impuesto = 0\n",
        "        impuesto_a_pagar = 0\n",
        "\n",
        "        if ingreso_anual < 0:\n",
        "            raise ValueError\n",
        "        elif ingreso_anual < 10000:\n",
        "            tasa_impuesto = 0.00\n",
        "        elif ingreso_anual <= 20000:\n",
        "            tasa_impuesto = 0.10\n",
        "        elif ingreso_anual <= 50000:\n",
        "            tasa_impuesto = 0.20\n",
        "        else:\n",
        "            tasa_impuesto = 0.30\n",
        "\n",
        "        impuesto_a_pagar = ingreso_anual * tasa_impuesto\n",
        "\n",
        "        print(f\"Tasa de Impuesto Aplicada: {tasa_impuesto*100:.0f}%\")\n",
        "        print(f\"Impuesto a Pagar: ${impuesto_a_pagar:,.2f}\")\n",
        "\n",
        "        break\n",
        "\n",
        "    except ValueError:\n",
        "        print(\"Error: Valor Incorrecto. Ingresa un monto positivo y numerico.\")\n",
        "        print('=' * 80)\n",
        "\n"
      ],
      "metadata": {
        "colab": {
          "base_uri": "https://localhost:8080/"
        },
        "id": "njVlmJEuCMUD",
        "outputId": "46b9e98a-24be-41e1-fd90-f025a95f2466"
      },
      "execution_count": 15,
      "outputs": [
        {
          "output_type": "stream",
          "name": "stdout",
          "text": [
            "Cálculo de Impuestos\n",
            "Ingresa su ingreso anual: $-10\n",
            "Error: Valor Incorrecto. Ingresa un monto positivo y numerico.\n",
            "================================================================================\n",
            "Ingresa su ingreso anual: $3400.89\n",
            "Tasa de Impuesto Aplicada: 0%\n",
            "Impuesto a Pagar: $0.00\n"
          ]
        }
      ]
    }
  ]
}