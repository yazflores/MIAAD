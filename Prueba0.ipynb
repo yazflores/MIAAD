{
  "nbformat": 4,
  "nbformat_minor": 0,
  "metadata": {
    "colab": {
      "provenance": [],
      "authorship_tag": "ABX9TyPcyIFzvJiFQcafsku8TEun",
      "include_colab_link": true
    },
    "kernelspec": {
      "name": "python3",
      "display_name": "Python 3"
    },
    "language_info": {
      "name": "python"
    }
  },
  "cells": [
    {
      "cell_type": "markdown",
      "metadata": {
        "id": "view-in-github",
        "colab_type": "text"
      },
      "source": [
        "<a href=\"https://colab.research.google.com/github/yazflores/MIAAD/blob/main/Prueba0.ipynb\" target=\"_parent\"><img src=\"https://colab.research.google.com/assets/colab-badge.svg\" alt=\"Open In Colab\"/></a>"
      ]
    },
    {
      "cell_type": "code",
      "execution_count": 2,
      "metadata": {
        "colab": {
          "base_uri": "https://localhost:8080/"
        },
        "id": "4OCh2RjHHqtE",
        "outputId": "ec46e0f9-e61a-4f1c-95f7-8c4fc90a1d6b"
      },
      "outputs": [
        {
          "output_type": "stream",
          "name": "stdout",
          "text": [
            "simba\n",
            "simborino\n"
          ]
        }
      ],
      "source": [
        "print ('simba')\n",
        "print ('simborino')"
      ]
    },
    {
      "cell_type": "markdown",
      "source": [
        "# simbaaaa\n"
      ],
      "metadata": {
        "id": "GLI0Ia9IIDP5"
      }
    },
    {
      "cell_type": "code",
      "source": [
        "x=2\n",
        "y=2\n",
        "x+y"
      ],
      "metadata": {
        "colab": {
          "base_uri": "https://localhost:8080/"
        },
        "id": "yuAa1DL4IGbk",
        "outputId": "dd8b8b72-98f7-493b-8ff5-c670d18ea68a"
      },
      "execution_count": null,
      "outputs": [
        {
          "output_type": "execute_result",
          "data": {
            "text/plain": [
              "4"
            ]
          },
          "metadata": {},
          "execution_count": 3
        }
      ]
    }
  ]
}