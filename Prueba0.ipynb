{
  "nbformat": 4,
  "nbformat_minor": 0,
  "metadata": {
    "colab": {
      "provenance": []
    },
    "kernelspec": {
      "name": "python3",
      "display_name": "Python 3"
    },
    "language_info": {
      "name": "python"
    }
  },
  "cells": [
    {
      "cell_type": "code",
      "execution_count": null,
      "metadata": {
        "colab": {
          "base_uri": "https://localhost:8080/"
        },
        "id": "4OCh2RjHHqtE",
        "outputId": "c1761d46-9f3b-4189-a927-39ca41d5d46f"
      },
      "outputs": [
        {
          "output_type": "stream",
          "name": "stdout",
          "text": [
            "simba\n"
          ]
        }
      ],
      "source": [
        "print ('simba')"
      ]
    },
    {
      "cell_type": "markdown",
      "source": [
        "# simbaaaa\n"
      ],
      "metadata": {
        "id": "GLI0Ia9IIDP5"
      }
    },
    {
      "cell_type": "code",
      "source": [
        "x=2\n",
        "y=2\n",
        "x+y"
      ],
      "metadata": {
        "colab": {
          "base_uri": "https://localhost:8080/"
        },
        "id": "yuAa1DL4IGbk",
        "outputId": "dd8b8b72-98f7-493b-8ff5-c670d18ea68a"
      },
      "execution_count": null,
      "outputs": [
        {
          "output_type": "execute_result",
          "data": {
            "text/plain": [
              "4"
            ]
          },
          "metadata": {},
          "execution_count": 3
        }
      ]
    }
  ]
}