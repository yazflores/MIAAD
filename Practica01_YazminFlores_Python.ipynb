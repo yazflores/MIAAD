{
  "nbformat": 4,
  "nbformat_minor": 0,
  "metadata": {
    "colab": {
      "provenance": [],
      "include_colab_link": true
    },
    "kernelspec": {
      "name": "python3",
      "display_name": "Python 3"
    },
    "language_info": {
      "name": "python"
    }
  },
  "cells": [
    {
      "cell_type": "markdown",
      "metadata": {
        "id": "view-in-github",
        "colab_type": "text"
      },
      "source": [
        "<a href=\"https://colab.research.google.com/github/yazflores/MIAAD/blob/main/Practica01_YazminFlores_Python.ipynb\" target=\"_parent\"><img src=\"https://colab.research.google.com/assets/colab-badge.svg\" alt=\"Open In Colab\"/></a>"
      ]
    },
    {
      "cell_type": "code",
      "execution_count": null,
      "metadata": {
        "id": "LrjZXmJQ6OIV"
      },
      "outputs": [],
      "source": [
        "# Variable entera\n",
        "var_entera = 24\n",
        "\n",
        "# Variable de punto flotante\n",
        "var_flotante = 86.01\n",
        "\n",
        "# Variable de texto\n",
        "var_texto = \"Hola, Mi primera practica en Python!\"\n",
        "\n",
        "# Variable booleana\n",
        "var_booleana = False"
      ]
    },
    {
      "cell_type": "code",
      "source": [
        "print(\"Variable Entera\")\n",
        "print(\"Valor:\", var_entera)\n",
        "print(\"Tipo:\", type(var_entera))\n",
        "print()\n",
        "\n",
        "print(\"Variable de Punto Flotante\")\n",
        "print(\"Valor:\", var_flotante)\n",
        "print(\"Tipo:\", type(var_flotante))\n",
        "print()\n",
        "\n",
        "print(\"Variable de Texto\")\n",
        "print(\"Valor:\", var_texto)\n",
        "print(\"Tipo:\", type(var_texto))\n",
        "print()\n",
        "\n",
        "print(\"Variable Booleana\")\n",
        "print(\"Valor:\", var_booleana)\n",
        "print(\"Tipo:\", type(var_booleana))\n",
        "print()"
      ],
      "metadata": {
        "colab": {
          "base_uri": "https://localhost:8080/"
        },
        "id": "jjwo5Mbi6kl3",
        "outputId": "7791660a-cf95-4338-ab4e-6f8cf2e4512a"
      },
      "execution_count": null,
      "outputs": [
        {
          "output_type": "stream",
          "name": "stdout",
          "text": [
            "--- Variable Entera ---\n",
            "Valor: 10\n",
            "Tipo: <class 'int'>\n",
            "\n",
            "--- Variable de Punto Flotante ---\n",
            "Valor: 25.75\n",
            "Tipo: <class 'float'>\n",
            "\n",
            "--- Variable de Texto (Cadena) ---\n",
            "Valor: Hola, Python!\n",
            "Tipo: <class 'str'>\n",
            "\n",
            "--- Variable Booleana ---\n",
            "Valor: False\n",
            "Tipo: <class 'bool'>\n",
            "\n"
          ]
        }
      ]
    }
  ]
}