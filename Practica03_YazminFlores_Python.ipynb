{
  "nbformat": 4,
  "nbformat_minor": 0,
  "metadata": {
    "colab": {
      "provenance": [],
      "include_colab_link": true
    },
    "kernelspec": {
      "name": "python3",
      "display_name": "Python 3"
    },
    "language_info": {
      "name": "python"
    }
  },
  "cells": [
    {
      "cell_type": "markdown",
      "metadata": {
        "id": "view-in-github",
        "colab_type": "text"
      },
      "source": [
        "<a href=\"https://colab.research.google.com/github/yazflores/MIAAD/blob/main/Practica03_YazminFlores_Python.ipynb\" target=\"_parent\"><img src=\"https://colab.research.google.com/assets/colab-badge.svg\" alt=\"Open In Colab\"/></a>"
      ]
    },
    {
      "cell_type": "code",
      "source": [
        "print(\"Conversor de Temperatura de °C a °F\")\n",
        "print(\"=\" * 80)\n",
        "\n",
        "while True:\n",
        "  try:\n",
        "    celsius_str = input(f\"Ingresa la temperatura en grados °C: \")\n",
        "    celsius = float(celsius_str)\n",
        "\n",
        "    fahrenheit = (celsius * 9/5) + 32\n",
        "\n",
        "    print(f\"Resultado: {celsius}°C equivale a {fahrenheit:.2f}°F\")\n",
        "    break\n",
        "  except ValueError:\n",
        "    print(\"Error,ingresa un valor numerico.\")\n"
      ],
      "metadata": {
        "colab": {
          "base_uri": "https://localhost:8080/"
        },
        "id": "njVlmJEuCMUD",
        "outputId": "7473fae3-de77-43d7-e56b-37facedeb53c"
      },
      "execution_count": 4,
      "outputs": [
        {
          "output_type": "stream",
          "name": "stdout",
          "text": [
            "Conversor de Temperatura de °C a °F\n",
            "================================================================================\n",
            "Ingresa la temperatura en grados °C: yttdgg\n",
            "Error,ingresa un valor numerico.\n",
            "Ingresa la temperatura en grados °C: 0\n",
            "Resultado: 0.0°C equivale a 32.00°F\n"
          ]
        }
      ]
    }
  ]
}