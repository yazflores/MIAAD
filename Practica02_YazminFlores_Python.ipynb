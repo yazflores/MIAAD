{
  "nbformat": 4,
  "nbformat_minor": 0,
  "metadata": {
    "colab": {
      "provenance": [],
      "include_colab_link": true
    },
    "kernelspec": {
      "name": "python3",
      "display_name": "Python 3"
    },
    "language_info": {
      "name": "python"
    }
  },
  "cells": [
    {
      "cell_type": "markdown",
      "metadata": {
        "id": "view-in-github",
        "colab_type": "text"
      },
      "source": [
        "<a href=\"https://colab.research.google.com/github/yazflores/MIAAD/blob/main/Practica02_YazminFlores_Python.ipynb\" target=\"_parent\"><img src=\"https://colab.research.google.com/assets/colab-badge.svg\" alt=\"Open In Colab\"/></a>"
      ]
    },
    {
      "cell_type": "code",
      "source": [
        "# Datos de usuario\n",
        "nombre_usr = input(\"Introduce tu nombre completo: \")\n",
        "edad_usr = input(\"Introduce tu edad: \")\n",
        "direccion_usr = input(\"Introduce tu dirección: \")\n",
        "telefono_usr = input(\"Introduce tu número de teléfono: \")\n",
        "\n",
        "# Compone mensaje\n",
        "mensaje_parte1 = f\"HOLA, MI NOMBRE ES: {nombre_usr.upper()},\"\n",
        "mensaje_parte2 = f\"Y TENGO {edad_usr} AÑOS\"\n",
        "mensaje_parte3 = f\"VIVO EN {direccion_usr.upper()}\"\n",
        "mensaje_parte4 = f\"CON NÚMERO DE TELÉFONO: {telefono_usr}\"\n",
        "\n",
        "# Imprimir mensaje\n",
        "print(\"=\" * 100)\n",
        "print(mensaje_parte1,mensaje_parte2)\n",
        "print(mensaje_parte3,mensaje_parte4)\n",
        "print(\"=\" * 100)\n",
        "\n"
      ],
      "metadata": {
        "colab": {
          "base_uri": "https://localhost:8080/"
        },
        "id": "XFW85pVf0eJi",
        "outputId": "7782c383-336f-4a04-a038-ef6d486c549b"
      },
      "execution_count": 7,
      "outputs": [
        {
          "output_type": "stream",
          "name": "stdout",
          "text": [
            "Introduce tu nombre completo: Flor Baltodano Escudero\n",
            "Introduce tu edad: 23\n",
            "Introduce tu dirección: Llano Verde #8 Xaltipac, Chimalhuacan Estado de Mexico\n",
            "Introduce tu número de teléfono: 5551116789\n",
            "====================================================================================================\n",
            "HOLA, MI NOMBRE ES: FLOR BALTODANO ESCUDERO, Y TENGO 23 AÑOS\n",
            "VIVO EN LLANO VERDE #8 XALTIPAC, CHIMALHUACAN ESTADO DE MEXICO CON NÚMERO DE TELÉFONO: 5551116789\n",
            "====================================================================================================\n"
          ]
        }
      ]
    }
  ]
}