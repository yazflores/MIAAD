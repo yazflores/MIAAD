{
  "nbformat": 4,
  "nbformat_minor": 0,
  "metadata": {
    "colab": {
      "provenance": [],
      "include_colab_link": true
    },
    "kernelspec": {
      "name": "python3",
      "display_name": "Python 3"
    },
    "language_info": {
      "name": "python"
    }
  },
  "cells": [
    {
      "cell_type": "markdown",
      "metadata": {
        "id": "view-in-github",
        "colab_type": "text"
      },
      "source": [
        "<a href=\"https://colab.research.google.com/github/yazflores/MIAAD/blob/main/Practica02_YazminFlores_Python.ipynb\" target=\"_parent\"><img src=\"https://colab.research.google.com/assets/colab-badge.svg\" alt=\"Open In Colab\"/></a>"
      ]
    },
    {
      "cell_type": "code",
      "source": [
        "# Datos de usuario\n",
        "nombre_usr = input(\"Introduce tu nombre completo: \")\n",
        "edad_usr = input(\"Introduce tu edad: \")\n",
        "direccion_usr = input(\"Introduce tu dirección: \")\n",
        "telefono_usr = input(\"Introduce tu número de teléfono: \")\n",
        "\n",
        "# Compone mensaje\n",
        "mensaje_parte1 = f\"HOLA, MI NOMBRE ES: {nombre_usr.upper()}\"\n",
        "mensaje_parte2 = f\"TENGO {edad_usr} AÑOS\"\n",
        "mensaje_parte3 = f\"VIVO EN {direccion_usr.upper()}\"\n",
        "mensaje_parte4 = f\"MI NÚMERO DE TELÉFONO ES: {telefono_usr}\"\n",
        "\n",
        "# Imprimir mensaje\n",
        "print(\"=\" * 80)\n",
        "print(mensaje_parte1)\n",
        "print(mensaje_parte2)\n",
        "print(mensaje_parte3)\n",
        "print(mensaje_parte4)\n",
        "print(\"=\" * 80)\n",
        "\n"
      ],
      "metadata": {
        "colab": {
          "base_uri": "https://localhost:8080/"
        },
        "id": "XFW85pVf0eJi",
        "outputId": "4c9b7353-840f-497a-8065-09ae36bfce77"
      },
      "execution_count": 4,
      "outputs": [
        {
          "output_type": "stream",
          "name": "stdout",
          "text": [
            "Introduce tu nombre completo: Flor Baltodano Escudero\n",
            "Introduce tu edad: 45\n",
            "Introduce tu dirección: Llano verde No. 6 Xaltipac Chimalhuacan estado de mexico\n",
            "Introduce tu número de teléfono: 5551223344\n",
            "================================================================================\n",
            "HOLA, MI NOMBRE ES: FLOR BALTODANO ESCUDERO\n",
            "TENGO 45 AÑOS\n",
            "VIVO EN LLANO VERDE NO. 6 XALTIPAC CHIMALHUACAN ESTADO DE MEXICO\n",
            "MI NÚMERO DE TELÉFONO ES: 5551223344\n",
            "================================================================================\n"
          ]
        }
      ]
    }
  ]
}