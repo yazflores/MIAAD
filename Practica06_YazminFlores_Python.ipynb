{
  "nbformat": 4,
  "nbformat_minor": 0,
  "metadata": {
    "colab": {
      "provenance": [],
      "include_colab_link": true
    },
    "kernelspec": {
      "name": "python3",
      "display_name": "Python 3"
    },
    "language_info": {
      "name": "python"
    }
  },
  "cells": [
    {
      "cell_type": "markdown",
      "metadata": {
        "id": "view-in-github",
        "colab_type": "text"
      },
      "source": [
        "<a href=\"https://colab.research.google.com/github/yazflores/MIAAD/blob/main/Practica06_YazminFlores_Python.ipynb\" target=\"_parent\"><img src=\"https://colab.research.google.com/assets/colab-badge.svg\" alt=\"Open In Colab\"/></a>"
      ]
    },
    {
      "cell_type": "code",
      "source": [
        "PI = 3.1416\n",
        "\n",
        "def area_circulo(radio):\n",
        "    return PI * radio**2\n",
        "\n",
        "def area_rectangulo(base, altura):\n",
        "    return base * altura\n",
        "\n",
        "def area_triangulo(base, altura):\n",
        "    return (base * altura) / 2\n",
        "\n",
        "def valida_entrada(mensaje_prompt):\n",
        "    while True:\n",
        "        try:\n",
        "            medida_str = input(mensaje_prompt)\n",
        "            medida = float(medida_str)\n",
        "            if medida > 0:\n",
        "                return medida\n",
        "            else:\n",
        "                print(\"Error, ingresa un numero Positivo\")\n",
        "        except ValueError:\n",
        "            print(\"Error, Ingresa un valor numerico.\")\n",
        "\n",
        "while True:\n",
        "    print(\"\\nSelecciona la figura geometrica que desea calcular su area:\")\n",
        "    print(\"1. Círculo\")\n",
        "    print(\"2. Rectángulo\")\n",
        "    print(\"3. Triángulo\")\n",
        "    print(\"4. Salir\")\n",
        "\n",
        "    opcion = input(\"\\nElige una opcion del Menu: \")\n",
        "\n",
        "    if opcion == '1':\n",
        "        print(\"\\n--- Área del Círculo ---\")\n",
        "        radio= valida_entrada(\"Ingrese el radio del círculo: \")\n",
        "        resultado_area = area_circulo(radio)\n",
        "        print(f\"El área del círculo es: {resultado_area:.4f}\")\n",
        "\n",
        "    elif opcion == '2':\n",
        "        print(\"\\n--- Área del Rectángulo ---\")\n",
        "        base= valida_entrada(\"Ingrese la base del rectángulo: \")\n",
        "        altura= valida_entrada(\"Ingrese la altura del rectángulo: \")\n",
        "        resultado_area = area_rectangulo(base, altura)\n",
        "        print(f\"El área del rectángulo es: {resultado_area:.4f}\")\n",
        "\n",
        "    elif opcion == '3':\n",
        "        print(\"\\n--- Área del Triángulo ---\")\n",
        "        base= valida_entrada(\"Ingrese la base del triángulo: \")\n",
        "        altura = valida_entrada(\"Ingrese la altura del triángulo: \")\n",
        "        resultado_area = area_triangulo(base, altura)\n",
        "        print(f\"El área del triángulo es: {resultado_area:.6f}\")\n",
        "\n",
        "    elif opcion == '4':\n",
        "        break\n",
        "\n",
        "    else:\n",
        "        print(\"Opcion invalida, intentalo nuevamente\")\n",
        "\n",
        "    print(\"=\" * 80)"
      ],
      "metadata": {
        "id": "yrtlm8CKeW1k",
        "colab": {
          "base_uri": "https://localhost:8080/"
        },
        "outputId": "4fcea16c-e937-4110-a989-b74be4672991"
      },
      "execution_count": 1,
      "outputs": [
        {
          "name": "stdout",
          "output_type": "stream",
          "text": [
            "\n",
            "Selecciona la figura geometrica que desea calcular su area:\n",
            "1. Círculo\n",
            "2. Rectángulo\n",
            "3. Triángulo\n",
            "4. Salir\n",
            "\n",
            "Elige una opcion del Menu: 6\n",
            "Opcion invalida, intentalo nuevamente\n",
            "================================================================================\n",
            "\n",
            "Selecciona la figura geometrica que desea calcular su area:\n",
            "1. Círculo\n",
            "2. Rectángulo\n",
            "3. Triángulo\n",
            "4. Salir\n",
            "\n",
            "Elige una opcion del Menu: 1\n",
            "\n",
            "--- Área del Círculo ---\n",
            "Ingrese el radio del círculo: 6\n",
            "El área del círculo es: 113.0976\n",
            "================================================================================\n",
            "\n",
            "Selecciona la figura geometrica que desea calcular su area:\n",
            "1. Círculo\n",
            "2. Rectángulo\n",
            "3. Triángulo\n",
            "4. Salir\n",
            "\n",
            "Elige una opcion del Menu: 2\n",
            "\n",
            "--- Área del Rectángulo ---\n",
            "Ingrese la base del rectángulo: 2\n",
            "Ingrese la altura del rectángulo: 4\n",
            "El área del rectángulo es: 8.0000\n",
            "================================================================================\n",
            "\n",
            "Selecciona la figura geometrica que desea calcular su area:\n",
            "1. Círculo\n",
            "2. Rectángulo\n",
            "3. Triángulo\n",
            "4. Salir\n",
            "\n",
            "Elige una opcion del Menu: 3\n",
            "\n",
            "--- Área del Triángulo ---\n",
            "Ingrese la base del triángulo: 2\n",
            "Ingrese la altura del triángulo: 4\n",
            "El área del triángulo es: 4.000000\n",
            "================================================================================\n",
            "\n",
            "Selecciona la figura geometrica que desea calcular su area:\n",
            "1. Círculo\n",
            "2. Rectángulo\n",
            "3. Triángulo\n",
            "4. Salir\n",
            "\n",
            "Elige una opcion del Menu: 4\n"
          ]
        }
      ]
    }
  ]
}