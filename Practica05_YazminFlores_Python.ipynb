{
  "nbformat": 4,
  "nbformat_minor": 0,
  "metadata": {
    "colab": {
      "provenance": [],
      "include_colab_link": true
    },
    "kernelspec": {
      "name": "python3",
      "display_name": "Python 3"
    },
    "language_info": {
      "name": "python"
    }
  },
  "cells": [
    {
      "cell_type": "markdown",
      "metadata": {
        "id": "view-in-github",
        "colab_type": "text"
      },
      "source": [
        "<a href=\"https://colab.research.google.com/github/yazflores/MIAAD/blob/main/Practica05_YazminFlores_Python.ipynb\" target=\"_parent\"><img src=\"https://colab.research.google.com/assets/colab-badge.svg\" alt=\"Open In Colab\"/></a>"
      ]
    },
    {
      "cell_type": "code",
      "source": [
        "print(\"Generador de Tabla de Multiplicar\")\n",
        "print(\"---------------------------------\")\n",
        "\n",
        "while True:\n",
        "    try:\n",
        "        numero_str = input(\"Ingresa un número: \")\n",
        "        numero = int(numero_str)\n",
        "\n",
        "        print(f\"\\n--- La Tabla de Multiplicar del {numero} es:---\")\n",
        "\n",
        "        for i in range(1, 11):\n",
        "          resultado = numero * i\n",
        "          print(f\"{numero} x {i} = {resultado}\")\n",
        "        break\n",
        "    except ValueError:\n",
        "      print(\"Error ingresa un número entero.\")\n",
        "      print('=' * 30)\n"
      ],
      "metadata": {
        "colab": {
          "base_uri": "https://localhost:8080/"
        },
        "id": "njVlmJEuCMUD",
        "outputId": "87de4d1c-8909-4015-b2e9-3a6d1530df11"
      },
      "execution_count": 4,
      "outputs": [
        {
          "output_type": "stream",
          "name": "stdout",
          "text": [
            "Generador de Tabla de Multiplicar\n",
            "---------------------------------\n",
            "Ingresa un número: j\n",
            "Error ingresa un número entero.\n",
            "==============================\n",
            "Ingresa un número: 86\n",
            "\n",
            "--- La Tabla de Multiplicar del 86 es:---\n",
            "86 x 1 = 86\n",
            "86 x 2 = 172\n",
            "86 x 3 = 258\n",
            "86 x 4 = 344\n",
            "86 x 5 = 430\n",
            "86 x 6 = 516\n",
            "86 x 7 = 602\n",
            "86 x 8 = 688\n",
            "86 x 9 = 774\n",
            "86 x 10 = 860\n"
          ]
        }
      ]
    }
  ]
}